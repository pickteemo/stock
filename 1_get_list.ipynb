{
 "cells": [
  {
   "cell_type": "code",
   "execution_count": 12,
   "metadata": {},
   "outputs": [],
   "source": [
    "import tushare as ts\n",
    "import pandas as pd\n",
    "import numpy as np\n",
    "import os\n",
    "import time\n",
    "import tqdm\n",
    "import talib as ta\n",
    "import mplfinance as mpf\n",
    "import matplotlib.pyplot as plt\n",
    "from datetime import datetime\n",
    "from pathlib import Path\n",
    "import shutil\n",
    "import akshare as ak\n",
    "\n",
    "TOEKN_PATH = os.path.expanduser(\"./.tushare.token\")\n",
    "\n",
    "with open(TOEKN_PATH, \"r\") as f:\n",
    "    token = f.read().strip()\n",
    "    ts.set_token(token=token)\n",
    "    pro = ts.pro_api(token=token)\n"
   ]
  },
  {
   "cell_type": "code",
   "execution_count": 13,
   "metadata": {},
   "outputs": [
    {
     "name": "stdout",
     "output_type": "stream",
     "text": [
      "     ts_code trade_date  open   high    low  close  pre_close  change   \n",
      "0  000001.SZ   20241210  11.9  11.95  11.75  11.79      11.67    0.12  \\\n",
      "\n",
      "   pct_chg         vol       amount  \n",
      "0     1.03  2167807.24  2564600.677  \n",
      "             日期     开盘     收盘     最高     最低       成交量           成交额    振幅   \n",
      "232  2024-12-10  430.0  411.2  431.0  410.4  30282843  1.268559e+10  4.92  \\\n",
      "\n",
      "      涨跌幅  涨跌额   换手率  \n",
      "232 -1.81 -7.6  0.32  \n",
      "     ts_code trade_date  pre_close   open   high    low  close  change   \n",
      "0  159941.SZ   20241210      1.208  1.191  1.197  1.189  1.197  -0.011  \\\n",
      "\n",
      "   pct_chg         vol       amount  \n",
      "0  -0.9106  10275786.0  1226886.096  \n"
     ]
    }
   ],
   "source": [
    "t1 = ts.pro_bar(ts_code='000001.SZ', adj='qfq', start_date='20230101',limit=1)\n",
    "t2 = ak.stock_hk_hist(symbol='00700', period=\"daily\", start_date=\"20240101\", end_date=\"22220101\", adjust=\"\")\n",
    "\n",
    "t3 = pro.fund_daily(**{\n",
    "        \"trade_date\": \"\",\n",
    "        \"start_date\": \"20230101\",\n",
    "        \"end_date\": \"\",\n",
    "        \"ts_code\": '159941.SZ',\n",
    "        \"limit\": \"1\",\n",
    "        \"offset\": \"\"\n",
    "    }, fields=[\n",
    "        \"ts_code\",\n",
    "        \"trade_date\",\n",
    "        \"pre_close\",\n",
    "        \"open\",\n",
    "        \"high\",\n",
    "        \"low\",\n",
    "        \"close\",\n",
    "        \"change\",\n",
    "        \"pct_chg\",\n",
    "        \"vol\",\n",
    "        \"amount\"\n",
    "    ])\n",
    "print(t1)\n",
    "print(t2.tail(1))\n",
    "print(t3)"
   ]
  },
  {
   "cell_type": "code",
   "execution_count": 14,
   "metadata": {},
   "outputs": [
    {
     "name": "stdout",
     "output_type": "stream",
     "text": [
      "(5078, 10)\n",
      "(545, 2)\n",
      "(319, 2)\n",
      "(34, 2)\n",
      "(5942, 10)\n"
     ]
    }
   ],
   "source": [
    "stock_basic_df = pro.stock_basic(\n",
    "    **{\n",
    "        \"ts_code\": \"\",\n",
    "        \"name\": \"\",\n",
    "        \"exchange\": \"\",\n",
    "        \"market\": \"\",\n",
    "        \"is_hs\": \"\",\n",
    "        \"list_status\": \"\",\n",
    "        \"limit\": \"\",\n",
    "        \"offset\": \"\",\n",
    "    },\n",
    "    fields=[\n",
    "        \"ts_code\",\n",
    "        \"symbol\",\n",
    "        \"name\",\n",
    "        \"area\",\n",
    "        \"industry\",\n",
    "        \"cnspell\",\n",
    "        \"market\",\n",
    "        \"list_date\",\n",
    "        \"act_name\",\n",
    "        \"act_ent_type\",\n",
    "    ],\n",
    ")\n",
    "\n",
    "# filter\n",
    "stock_basic_df = stock_basic_df[stock_basic_df[\"market\"].isin([\"主板\", \"创业板\", \"科创板\"])]\n",
    "stock_basic_df['list_date'] = pd.to_datetime(stock_basic_df['list_date'], format='%Y%m%d')\n",
    "stock_basic_df = stock_basic_df[stock_basic_df['list_date'] < '2024-06-30']\n",
    "print(stock_basic_df.shape)\n",
    "\n",
    "\n",
    "# ggt\n",
    "ggt_df = pd.read_csv('ggt/ggt_hk.csv')\n",
    "print(ggt_df.shape)\n",
    "\n",
    "# etf\n",
    "etf_df = pd.read_csv('etf/etf.csv')\n",
    "fetf_df = pd.read_csv('etf/fetf.csv')\n",
    "print(etf_df.shape)\n",
    "print(fetf_df.shape)\n",
    "\n",
    "basic_df = pd.concat([stock_basic_df, ggt_df,etf_df], ignore_index=True)\n",
    "print(basic_df.shape)\n",
    "\n",
    "\n",
    "stock_basic_df.to_csv('data/stock_basic_df.csv', index=False)\n",
    "ggt_df.to_csv('data/ggt_basic_df.csv', index=False)\n",
    "etf_df.to_csv('data/etf_basic_df.csv', index=False)\n",
    "fetf_df.to_csv('data/fetf_basic_df.csv', index=False)\n",
    "basic_df.to_csv('data/basic_df.csv', index=False)"
   ]
  },
  {
   "cell_type": "code",
   "execution_count": null,
   "metadata": {},
   "outputs": [],
   "source": []
  }
 ],
 "metadata": {
  "kernelspec": {
   "display_name": "base",
   "language": "python",
   "name": "python3"
  },
  "language_info": {
   "codemirror_mode": {
    "name": "ipython",
    "version": 3
   },
   "file_extension": ".py",
   "mimetype": "text/x-python",
   "name": "python",
   "nbconvert_exporter": "python",
   "pygments_lexer": "ipython3",
   "version": "3.10.15"
  }
 },
 "nbformat": 4,
 "nbformat_minor": 2
}

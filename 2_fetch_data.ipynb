{
 "cells": [
  {
   "cell_type": "code",
   "execution_count": 26,
   "metadata": {},
   "outputs": [],
   "source": [
    "import tushare as ts\n",
    "import pandas as pd\n",
    "import numpy as np\n",
    "import os\n",
    "import time\n",
    "import tqdm\n",
    "import talib as ta\n",
    "import mplfinance as mpf\n",
    "import matplotlib.pyplot as plt\n",
    "from datetime import datetime\n",
    "from pathlib import Path\n",
    "import shutil\n",
    "import akshare as ak\n",
    "\n",
    "TOEKN_PATH = os.path.expanduser(\"./.tushare.token\")\n",
    "\n",
    "with open(TOEKN_PATH, \"r\") as f:\n",
    "    token = f.read().strip()\n",
    "    ts.set_token(token=token)\n",
    "    pro = ts.pro_api(token=token)\n"
   ]
  },
  {
   "cell_type": "code",
   "execution_count": 27,
   "metadata": {},
   "outputs": [],
   "source": [
    "daily_folder = Path(\"data/daily\")\n",
    "plt_folder = Path(\"data/plt\")\n",
    "for folder in [daily_folder, plt_folder]:\n",
    "    if not folder.exists():\n",
    "        folder.mkdir(parents=True)\n",
    "    else:\n",
    "        shutil.rmtree(folder)\n",
    "        folder.mkdir(parents=True)"
   ]
  },
  {
   "cell_type": "code",
   "execution_count": 28,
   "metadata": {},
   "outputs": [],
   "source": [
    "stock_basic_df = pd.read_csv(\"./data/stock_basic_df.csv\")\n",
    "ggt_df = pd.read_csv(\"./data/ggt_basic_df.csv\")\n",
    "etf_df = pd.read_csv(\"./data/etf_basic_df.csv\")\n",
    "fetf_df = pd.read_csv(\"./data/fetf_basic_df.csv\")\n",
    "basic_df = pd.read_csv(\"./data/basic_df.csv\")"
   ]
  },
  {
   "cell_type": "code",
   "execution_count": 29,
   "metadata": {},
   "outputs": [
    {
     "name": "stderr",
     "output_type": "stream",
     "text": [
      "Processing: 100%|██████████| 5078/5078 [54:01<00:00,  1.57it/s]  \n"
     ]
    }
   ],
   "source": [
    "code = list(stock_basic_df[\"ts_code\"])\n",
    "\n",
    "daily_dir = os.path.join(\"data\", \"daily\")\n",
    "if not os.path.exists(daily_dir):\n",
    "    # 目录不存在，创建目录\n",
    "    os.makedirs(os.path.join(daily_dir))\n",
    "\n",
    "daily_df = pd.DataFrame()\n",
    "\n",
    "for c in tqdm.tqdm(code, desc=\"Processing\"):\n",
    "    chunk_filename = os.path.join(daily_dir,f\"{c}.csv\")\n",
    "    if os.path.exists(chunk_filename):\n",
    "        continue\n",
    "    c_df = ts.pro_bar(ts_code=c, adj='qfq', start_date=\"20230101\")\n",
    "    f_df = pro.daily_basic(**{\n",
    "        \"ts_code\": c,\n",
    "        \"trade_date\": \"\",\n",
    "        \"start_date\": \"20230101\",\n",
    "        \"end_date\": \"\",\n",
    "        \"limit\": \"\",\n",
    "        \"offset\": \"\"\n",
    "    }, fields=[\n",
    "        \"ts_code\",\n",
    "        \"trade_date\",\n",
    "        #\"close\",\n",
    "        \"turnover_rate\",\n",
    "        \"turnover_rate_f\",\n",
    "        \"volume_ratio\",\n",
    "        \"pe\",\n",
    "        \"pe_ttm\",\n",
    "        \"pb\",\n",
    "        \"ps\",\n",
    "        \"ps_ttm\",\n",
    "        \"dv_ratio\",\n",
    "        \"dv_ttm\",\n",
    "        \"total_share\",\n",
    "        \"float_share\",\n",
    "        \"free_share\",\n",
    "        \"total_mv\",\n",
    "        \"circ_mv\",\n",
    "        \"limit_status\"\n",
    "    ])\n",
    "    merged_df = pd.merge(c_df, f_df, on=['ts_code', 'trade_date'])\n",
    "    merged_df.to_csv(chunk_filename, index=False)\n",
    "    time.sleep(0.1)\n"
   ]
  },
  {
   "cell_type": "code",
   "execution_count": 30,
   "metadata": {},
   "outputs": [
    {
     "name": "stderr",
     "output_type": "stream",
     "text": [
      "Processing: 100%|██████████| 545/545 [01:23<00:00,  6.55it/s]\n"
     ]
    }
   ],
   "source": [
    "for c in tqdm.tqdm(ggt_df['ts_code'], desc=\"Processing\"):\n",
    "    c_num = c.split(\".\")[0]\n",
    "    chunk_filename = os.path.join(daily_dir,f\"{c}.csv\")\n",
    "    stock_hk_hist_df = ak.stock_hk_hist(symbol=c_num, period=\"daily\", start_date=\"20240101\", end_date=\"22220101\", adjust=\"\")\n",
    "    stock_hk_hist_df['ts_code'] = c\n",
    "    stock_hk_hist_df['circ_mv'] = 0\n",
    "    stock_hk_hist_df['日期'] = stock_hk_hist_df['日期'].apply(lambda x: x.strftime(\"%Y%m%d\"))\n",
    "    stock_hk_hist_df = stock_hk_hist_df.rename(columns={\n",
    "        '日期': 'trade_date', \n",
    "        '开盘': 'open',\n",
    "        '收盘': 'close',\n",
    "        '最高': 'high',\n",
    "        '最低': 'low',\n",
    "        '成交量': 'vol',\n",
    "        '成交额': 'amount',\n",
    "        '振幅': 'amplitude',\n",
    "        '涨跌幅': 'pct_chg',\n",
    "        '涨跌额': 'change',\n",
    "        '换手率': 'turnover_rate',\n",
    "        })\n",
    "    stock_hk_hist_df.to_csv(chunk_filename, index=False)\n",
    "    time.sleep(0.01)"
   ]
  },
  {
   "cell_type": "code",
   "execution_count": 31,
   "metadata": {},
   "outputs": [
    {
     "name": "stderr",
     "output_type": "stream",
     "text": [
      "Processing: 100%|██████████| 341/341 [01:32<00:00,  3.68it/s]\n"
     ]
    }
   ],
   "source": [
    "etf_list = list(set(etf_df['ts_code']) | set(fetf_df['ts_code']))\n",
    "for c in tqdm.tqdm(etf_list, desc=\"Processing\"):\n",
    "    chunk_filename = os.path.join(daily_dir,f\"{c}.csv\")\n",
    "    df = pro.fund_daily(**{\n",
    "        \"trade_date\": \"\",\n",
    "        \"start_date\": \"20230101\",\n",
    "        \"end_date\": \"\",\n",
    "        \"ts_code\": c,\n",
    "        \"limit\": \"\",\n",
    "        \"offset\": \"\"\n",
    "    }, fields=[\n",
    "        \"ts_code\",\n",
    "        \"trade_date\",\n",
    "        \"pre_close\",\n",
    "        \"open\",\n",
    "        \"high\",\n",
    "        \"low\",\n",
    "        \"close\",\n",
    "        \"change\",\n",
    "        \"pct_chg\",\n",
    "        \"vol\",\n",
    "        \"amount\"\n",
    "    ])\n",
    "    df[\"circ_mv\"] = 0\n",
    "    df.to_csv(chunk_filename, index=False)\n",
    "    time.sleep(0.1)"
   ]
  },
  {
   "cell_type": "code",
   "execution_count": null,
   "metadata": {},
   "outputs": [],
   "source": []
  }
 ],
 "metadata": {
  "kernelspec": {
   "display_name": "base",
   "language": "python",
   "name": "python3"
  },
  "language_info": {
   "codemirror_mode": {
    "name": "ipython",
    "version": 3
   },
   "file_extension": ".py",
   "mimetype": "text/x-python",
   "name": "python",
   "nbconvert_exporter": "python",
   "pygments_lexer": "ipython3",
   "version": "3.10.15"
  }
 },
 "nbformat": 4,
 "nbformat_minor": 2
}

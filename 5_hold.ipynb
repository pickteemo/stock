{
 "cells": [
  {
   "cell_type": "code",
   "execution_count": 21,
   "metadata": {},
   "outputs": [],
   "source": [
    "import tushare as ts\n",
    "import pandas as pd\n",
    "import numpy as np\n",
    "import os\n",
    "import time\n",
    "import tqdm\n",
    "import talib as ta\n",
    "import mplfinance as mpf\n",
    "import matplotlib.pyplot as plt\n",
    "from datetime import datetime\n",
    "from pathlib import Path\n",
    "import shutil\n",
    "\n",
    "# TOEKN_PATH = os.path.expanduser(\"~/.tushare.token\")\n",
    "\n",
    "# with open(TOEKN_PATH, \"r\") as f:\n",
    "#     token = f.read().strip()\n",
    "#     ts.set_token(token=token)\n",
    "#     pro = ts.pro_api(token=token)\n"
   ]
  },
  {
   "cell_type": "code",
   "execution_count": 22,
   "metadata": {},
   "outputs": [],
   "source": [
    "stock_basic_df = pd.read_csv(\"./data/stock_basic_df.csv\")\n",
    "ggt_df = pd.read_csv(\"./data/ggt_basic_df.csv\")\n",
    "etf_df = pd.read_csv(\"./data/etf_basic_df.csv\")\n",
    "basic_df = pd.read_csv(\"./data/basic_df.csv\")\n",
    "industry_df = pd.read_csv(\"./data/industry.csv\")\n",
    "buy_list = pd.read_csv(\"./data/buy_list.csv\")['Column1'].tolist()\n",
    "up_list = pd.read_csv(\"./data/up_list.csv\")['Column1'].tolist()"
   ]
  },
  {
   "cell_type": "code",
   "execution_count": 23,
   "metadata": {},
   "outputs": [
    {
     "data": {
      "text/plain": [
       "'001234.SZ'"
      ]
     },
     "execution_count": 23,
     "metadata": {},
     "output_type": "execute_result"
    }
   ],
   "source": [
    "# get_industry_info\n",
    "hold_csv = 'table1120.csv'\n",
    "hold_df = pd.read_csv(hold_csv)\n",
    "hold_df = hold_df['证券代码'].apply(lambda x: str(x).zfill(6))\n",
    "hold_df = hold_df.apply(lambda x: x if not isinstance(x, str) else (x + '.SH' if (x.startswith('6') or x.startswith('5')) else (x + '.SZ' if (x.startswith('0') or x.startswith('1') or x.startswith('3')) else x)))\n",
    "hold_list = list(hold_df)\n",
    "hold_list[0]"
   ]
  },
  {
   "cell_type": "code",
   "execution_count": 24,
   "metadata": {},
   "outputs": [
    {
     "data": {
      "text/plain": [
       "['560010.SH', '588290.SH']"
      ]
     },
     "execution_count": 24,
     "metadata": {},
     "output_type": "execute_result"
    }
   ],
   "source": [
    "sell_list = [i for i in hold_list if i not in up_list]\n",
    "sell_list"
   ]
  },
  {
   "cell_type": "code",
   "execution_count": 25,
   "metadata": {},
   "outputs": [
    {
     "name": "stdout",
     "output_type": "stream",
     "text": [
      "                name industry\n",
      "688638.SH       誉辰智能     专用机械\n",
      "603056.SH       德邦股份     仓储物流\n",
      "001299.SZ       美能能源     供气供热\n",
      "600096.SH        云天化     农药化肥\n",
      "301212.SZ       联盛化学     化工原料\n",
      "688530.SH       欧莱新材      半导体\n",
      "600064.SH       南京高科     园区开发\n",
      "002508.SZ       老板电器     家用电器\n",
      "603280.SH       南方路机     工程机械\n",
      "601068.SH       中铝国际     建筑工程\n",
      "001234.SZ        泰慕士       服饰\n",
      "301107.SZ       瑜欣电子     机械基件\n",
      "603172.SH       万丰股份     染料涂料\n",
      "001260.SZ       坤泰股份     汽车配件\n",
      "601666.SH       平煤股份     煤炭开采\n",
      "603588.SH       高能环境     环境保护\n",
      "002546.SZ       新联电子     电气设备\n",
      "002394.SZ       联发股份       纺织\n",
      "688695.SH       中创股份     软件服务\n",
      "600016.SH       民生银行       银行\n",
      "600036.SH       招商银行       银行\n",
      "001366.SZ       播恩集团       饲料\n",
      "159869.SZ      游戏ETF      NaN\n",
      "515790.SH      光伏ETF      NaN\n",
      "516160.SH     新能源ETF      NaN\n",
      "560010.SH  560010.SH      NaN\n",
      "562800.SH    稀有金属ETF      NaN\n",
      "588290.SH  588290.SH      NaN\n"
     ]
    },
    {
     "data": {
      "text/plain": [
       "['银行']"
      ]
     },
     "execution_count": 25,
     "metadata": {},
     "output_type": "execute_result"
    }
   ],
   "source": [
    "hold_df = pd.DataFrame()\n",
    "\n",
    "for ts_code in hold_list:\n",
    "    # 从 daily 里读 csv,只读第一行然后按 circ_mv 排序\n",
    "    #df = pd.read_csv(os.path.join('./data/daily', f\"{ts_code}.csv\"))\n",
    "    \n",
    "    if ts_code not in basic_df['ts_code'].values:\n",
    "        hold_df.loc[ts_code, 'name'] = str(ts_code)\n",
    "        #hold_df.loc[ts_code, 'industry'] = pd.NA\n",
    "        continue\n",
    "    name = basic_df.loc[basic_df['ts_code'] == ts_code, 'name'].values[0]\n",
    "    industry = basic_df.loc[basic_df['ts_code'] == ts_code, 'industry'].values[0]\n",
    "    hold_df.loc[ts_code, 'name'] = name\n",
    "    hold_df.loc[ts_code, 'industry'] = industry\n",
    "print(hold_df.sort_values(by='industry'))\n",
    "# 计算industry列中每个值出现的次数\n",
    "industry_counts = hold_df['industry'].value_counts()\n",
    "# 找出出现次数大于1的行业，即重复项\n",
    "duplicates = industry_counts[industry_counts > 1].index.tolist()\n",
    "duplicates"
   ]
  },
  {
   "cell_type": "code",
   "execution_count": 30,
   "metadata": {},
   "outputs": [
    {
     "name": "stdout",
     "output_type": "stream",
     "text": [
      "600089.SH 特变电工 电气设备\n"
     ]
    },
    {
     "data": {
      "text/html": [
       "<div>\n",
       "<style scoped>\n",
       "    .dataframe tbody tr th:only-of-type {\n",
       "        vertical-align: middle;\n",
       "    }\n",
       "\n",
       "    .dataframe tbody tr th {\n",
       "        vertical-align: top;\n",
       "    }\n",
       "\n",
       "    .dataframe thead th {\n",
       "        text-align: right;\n",
       "    }\n",
       "</style>\n",
       "<table border=\"1\" class=\"dataframe\">\n",
       "  <thead>\n",
       "    <tr style=\"text-align: right;\">\n",
       "      <th></th>\n",
       "      <th>name</th>\n",
       "      <th>industry</th>\n",
       "    </tr>\n",
       "  </thead>\n",
       "  <tbody>\n",
       "    <tr>\n",
       "      <th>002546.SZ</th>\n",
       "      <td>新联电子</td>\n",
       "      <td>电气设备</td>\n",
       "    </tr>\n",
       "  </tbody>\n",
       "</table>\n",
       "</div>"
      ],
      "text/plain": [
       "           name industry\n",
       "002546.SZ  新联电子     电气设备"
      ]
     },
     "execution_count": 30,
     "metadata": {},
     "output_type": "execute_result"
    }
   ],
   "source": [
    "t_code = '600089.SH'\n",
    "name = basic_df.loc[basic_df['ts_code'] == t_code, 'name'].values[0]\n",
    "industry = basic_df.loc[basic_df['ts_code'] == t_code, 'industry'].values[0]\n",
    "print(t_code,name,industry)\n",
    "\n",
    "t_df = hold_df[hold_df['industry'] == industry]\n",
    "t_df"
   ]
  },
  {
   "cell_type": "code",
   "execution_count": 27,
   "metadata": {},
   "outputs": [
    {
     "name": "stdout",
     "output_type": "stream",
     "text": [
      "28\n"
     ]
    },
    {
     "data": {
      "text/html": [
       "<div>\n",
       "<style scoped>\n",
       "    .dataframe tbody tr th:only-of-type {\n",
       "        vertical-align: middle;\n",
       "    }\n",
       "\n",
       "    .dataframe tbody tr th {\n",
       "        vertical-align: top;\n",
       "    }\n",
       "\n",
       "    .dataframe thead th {\n",
       "        text-align: right;\n",
       "    }\n",
       "</style>\n",
       "<table border=\"1\" class=\"dataframe\">\n",
       "  <thead>\n",
       "    <tr style=\"text-align: right;\">\n",
       "      <th></th>\n",
       "      <th>name</th>\n",
       "      <th>industry</th>\n",
       "    </tr>\n",
       "  </thead>\n",
       "  <tbody>\n",
       "    <tr>\n",
       "      <th>001234.SZ</th>\n",
       "      <td>泰慕士</td>\n",
       "      <td>服饰</td>\n",
       "    </tr>\n",
       "    <tr>\n",
       "      <th>001260.SZ</th>\n",
       "      <td>坤泰股份</td>\n",
       "      <td>汽车配件</td>\n",
       "    </tr>\n",
       "    <tr>\n",
       "      <th>001299.SZ</th>\n",
       "      <td>美能能源</td>\n",
       "      <td>供气供热</td>\n",
       "    </tr>\n",
       "    <tr>\n",
       "      <th>001366.SZ</th>\n",
       "      <td>播恩集团</td>\n",
       "      <td>饲料</td>\n",
       "    </tr>\n",
       "    <tr>\n",
       "      <th>002394.SZ</th>\n",
       "      <td>联发股份</td>\n",
       "      <td>纺织</td>\n",
       "    </tr>\n",
       "    <tr>\n",
       "      <th>002508.SZ</th>\n",
       "      <td>老板电器</td>\n",
       "      <td>家用电器</td>\n",
       "    </tr>\n",
       "    <tr>\n",
       "      <th>002546.SZ</th>\n",
       "      <td>新联电子</td>\n",
       "      <td>电气设备</td>\n",
       "    </tr>\n",
       "    <tr>\n",
       "      <th>159869.SZ</th>\n",
       "      <td>游戏ETF</td>\n",
       "      <td>NaN</td>\n",
       "    </tr>\n",
       "    <tr>\n",
       "      <th>301107.SZ</th>\n",
       "      <td>瑜欣电子</td>\n",
       "      <td>机械基件</td>\n",
       "    </tr>\n",
       "    <tr>\n",
       "      <th>301212.SZ</th>\n",
       "      <td>联盛化学</td>\n",
       "      <td>化工原料</td>\n",
       "    </tr>\n",
       "    <tr>\n",
       "      <th>515790.SH</th>\n",
       "      <td>光伏ETF</td>\n",
       "      <td>NaN</td>\n",
       "    </tr>\n",
       "    <tr>\n",
       "      <th>516160.SH</th>\n",
       "      <td>新能源ETF</td>\n",
       "      <td>NaN</td>\n",
       "    </tr>\n",
       "    <tr>\n",
       "      <th>560010.SH</th>\n",
       "      <td>560010.SH</td>\n",
       "      <td>NaN</td>\n",
       "    </tr>\n",
       "    <tr>\n",
       "      <th>562800.SH</th>\n",
       "      <td>稀有金属ETF</td>\n",
       "      <td>NaN</td>\n",
       "    </tr>\n",
       "    <tr>\n",
       "      <th>588290.SH</th>\n",
       "      <td>588290.SH</td>\n",
       "      <td>NaN</td>\n",
       "    </tr>\n",
       "    <tr>\n",
       "      <th>600016.SH</th>\n",
       "      <td>民生银行</td>\n",
       "      <td>银行</td>\n",
       "    </tr>\n",
       "    <tr>\n",
       "      <th>600036.SH</th>\n",
       "      <td>招商银行</td>\n",
       "      <td>银行</td>\n",
       "    </tr>\n",
       "    <tr>\n",
       "      <th>600064.SH</th>\n",
       "      <td>南京高科</td>\n",
       "      <td>园区开发</td>\n",
       "    </tr>\n",
       "    <tr>\n",
       "      <th>600096.SH</th>\n",
       "      <td>云天化</td>\n",
       "      <td>农药化肥</td>\n",
       "    </tr>\n",
       "    <tr>\n",
       "      <th>601068.SH</th>\n",
       "      <td>中铝国际</td>\n",
       "      <td>建筑工程</td>\n",
       "    </tr>\n",
       "    <tr>\n",
       "      <th>601666.SH</th>\n",
       "      <td>平煤股份</td>\n",
       "      <td>煤炭开采</td>\n",
       "    </tr>\n",
       "    <tr>\n",
       "      <th>603056.SH</th>\n",
       "      <td>德邦股份</td>\n",
       "      <td>仓储物流</td>\n",
       "    </tr>\n",
       "    <tr>\n",
       "      <th>603172.SH</th>\n",
       "      <td>万丰股份</td>\n",
       "      <td>染料涂料</td>\n",
       "    </tr>\n",
       "    <tr>\n",
       "      <th>603280.SH</th>\n",
       "      <td>南方路机</td>\n",
       "      <td>工程机械</td>\n",
       "    </tr>\n",
       "    <tr>\n",
       "      <th>603588.SH</th>\n",
       "      <td>高能环境</td>\n",
       "      <td>环境保护</td>\n",
       "    </tr>\n",
       "    <tr>\n",
       "      <th>688530.SH</th>\n",
       "      <td>欧莱新材</td>\n",
       "      <td>半导体</td>\n",
       "    </tr>\n",
       "    <tr>\n",
       "      <th>688638.SH</th>\n",
       "      <td>誉辰智能</td>\n",
       "      <td>专用机械</td>\n",
       "    </tr>\n",
       "    <tr>\n",
       "      <th>688695.SH</th>\n",
       "      <td>中创股份</td>\n",
       "      <td>软件服务</td>\n",
       "    </tr>\n",
       "  </tbody>\n",
       "</table>\n",
       "</div>"
      ],
      "text/plain": [
       "                name industry\n",
       "001234.SZ        泰慕士       服饰\n",
       "001260.SZ       坤泰股份     汽车配件\n",
       "001299.SZ       美能能源     供气供热\n",
       "001366.SZ       播恩集团       饲料\n",
       "002394.SZ       联发股份       纺织\n",
       "002508.SZ       老板电器     家用电器\n",
       "002546.SZ       新联电子     电气设备\n",
       "159869.SZ      游戏ETF      NaN\n",
       "301107.SZ       瑜欣电子     机械基件\n",
       "301212.SZ       联盛化学     化工原料\n",
       "515790.SH      光伏ETF      NaN\n",
       "516160.SH     新能源ETF      NaN\n",
       "560010.SH  560010.SH      NaN\n",
       "562800.SH    稀有金属ETF      NaN\n",
       "588290.SH  588290.SH      NaN\n",
       "600016.SH       民生银行       银行\n",
       "600036.SH       招商银行       银行\n",
       "600064.SH       南京高科     园区开发\n",
       "600096.SH        云天化     农药化肥\n",
       "601068.SH       中铝国际     建筑工程\n",
       "601666.SH       平煤股份     煤炭开采\n",
       "603056.SH       德邦股份     仓储物流\n",
       "603172.SH       万丰股份     染料涂料\n",
       "603280.SH       南方路机     工程机械\n",
       "603588.SH       高能环境     环境保护\n",
       "688530.SH       欧莱新材      半导体\n",
       "688638.SH       誉辰智能     专用机械\n",
       "688695.SH       中创股份     软件服务"
      ]
     },
     "execution_count": 27,
     "metadata": {},
     "output_type": "execute_result"
    }
   ],
   "source": [
    "print(len(hold_df))\n",
    "hold_df.sort_index()"
   ]
  },
  {
   "cell_type": "code",
   "execution_count": null,
   "metadata": {},
   "outputs": [],
   "source": []
  }
 ],
 "metadata": {
  "kernelspec": {
   "display_name": "base",
   "language": "python",
   "name": "python3"
  },
  "language_info": {
   "codemirror_mode": {
    "name": "ipython",
    "version": 3
   },
   "file_extension": ".py",
   "mimetype": "text/x-python",
   "name": "python",
   "nbconvert_exporter": "python",
   "pygments_lexer": "ipython3",
   "version": "3.10.15"
  }
 },
 "nbformat": 4,
 "nbformat_minor": 2
}

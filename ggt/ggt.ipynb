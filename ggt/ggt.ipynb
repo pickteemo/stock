{
 "cells": [
  {
   "cell_type": "code",
   "execution_count": null,
   "metadata": {},
   "outputs": [],
   "source": [
    "import pandas as pd\n",
    "\n",
    "# 指定Excel文件路径\n",
    "ggt_file = 'ggtu8.csv'\n",
    "\n",
    "# 使用pandas读取Excel文件\n",
    "df = pd.read_csv(ggt_file, dtype={'ts_code': str})\n",
    "df\n",
    "df['ts_code'] = df['ts_code'] + '.HK'\n",
    "df[['ts_code','name']].to_csv('ggt_hk.csv', index=False)\n",
    "# df['code']\n"
   ]
  },
  {
   "cell_type": "code",
   "execution_count": null,
   "metadata": {},
   "outputs": [],
   "source": []
  }
 ],
 "metadata": {
  "kernelspec": {
   "display_name": "base",
   "language": "python",
   "name": "python3"
  },
  "language_info": {
   "codemirror_mode": {
    "name": "ipython",
    "version": 3
   },
   "file_extension": ".py",
   "mimetype": "text/x-python",
   "name": "python",
   "nbconvert_exporter": "python",
   "pygments_lexer": "ipython3",
   "version": "3.10.15"
  }
 },
 "nbformat": 4,
 "nbformat_minor": 2
}
